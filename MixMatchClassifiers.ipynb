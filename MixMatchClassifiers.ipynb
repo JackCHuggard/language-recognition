#Decision tree

from sklearn.tree import DecisionTreeClassifier
from sklearn.metrics import accuracy_score
colors = ['r-', 'b-','g-','y-','m-']
max_depth = [3,8,10,14,100]
min_sample_leaf = [1,5,10,15,20,50]
storage = [[],[],[],[],[]]
storage_training = [[],[],[],[],[]]
index_depth = 0
X_train_mfcc = X_train_mfcc.reshape(-1,1)
X_test_mfcc = X_test_mfcc.reshape(-1,1)
for depth in max_depth:
    for leaf in min_sample_leaf:
        classifier = DecisionTreeClassifier(max_depth=depth, min_samples_leaf=leaf, random_state=123)
        classifier.fit(X_train_mfcc, Y_train_mfcc)
        storage [index_depth].append(accuracy_score(Y_test_mfcc, classifier.predict(X_test_mfcc)))
        storage_training[index_depth].append(accuracy_score(Y_train_mfcc, classifier.predict(X_train_mfcc)))
    index_depth +=1
#graph    
import matplotlib.patches as mpatches
import matplotlib.pyplot as plt
colors = ['r-', 'b-','g-','y-','m-']
for x in range (5):
    print ("testing accuracy with depth ",max_depth[x])
    print (storage[x])
    print ("training accuracy with depth ", max_depth[x])
    print (storage_training[x])
    print()
for x in range(5):
    dep = "depth " + str(max_depth[x])
    plt.plot(min_sample_leaf, storage[x], label = dep)
plt.legend(bbox_to_anchor = (1.05, 1), loc = 2, borderaxespad=0.)

plt.ylabel("Accuracy")
plt.xlabel("max_Leaf")
plt.show()
for x in range(5):
    dep = "depth " + str(max_depth[x])
    plt.plot(min_sample_leaf, storage_training[x],label = dep)
plt.legend(bbox_to_anchor = (1.05, 1), loc = 2, borderaxespad=0.) 

plt.ylabel("Accuracy")
plt.xlabel("max_Leaf")
plt.show()

## Random Forest
from sklearn.ensemble import RandomForestClassifier
estimator = [10,50,100,300]
xaxis = []
trains = []
for x in estimator:
    classifier = RandomForestClassifier(n_estimators=x, max_depth=100, min_samples_leaf=1, random_state=123)
    classifier.fit(X_train_mfcc, Y_train_mfcc)
    xaxis.append(accuracy_score(Y_test_mfcc, classifier.predict(X_test_mfcc)))
    trains.append(accuracy_score(Y_train_mfcc, classifier.predict(X_train_mfcc))) 

#graph

plt.ylabel("Accuracy")
plt.xlabel("n_estimators")
plt.plot(estimator, trains, label = "Training Accuracy")
plt.plot(estimator, xaxis, label = "Testing Accuracy")
plt.legend(bbox_to_anchor = (1.05, 1), loc = 2, borderaxespad=0.)
plt.show()
for x in xaxis:
    print ("Test Accuracy: %0.6f" %x)


#Neural Network

from sklearn.neural_network import MLPClassifier

firstLayer = [50,100,200,300]
secondLayer = [20,50,100,200]
longtest = []
longtrain = []
arcTest = [[],[],[],[]]
arcTrain = [[],[],[],[]]
index = 0
for x in firstLayer:
    classifier = MLPClassifier(hidden_layer_sizes=(x), random_state=123)
    classifier.fit(X_train_mfcc,Y_train_mfcc)
    longtest.append(accuracy_score(Y_test_mfcc, classifier.predict(X_test_mfcc)))
    longtrain.append(accuracy_score(Y_train_mfcc, classifier.predict(X_train_mfcc)))
for x in firstLayer:
    for y in secondLayer:
        classifier = MLPClassifier(hidden_layer_sizes = (x,y), random_state=123)
        classifier.fit(X_train_mfcc,Y_train_mfcc)
        arcTest[index].append(accuracy_score(Y_test_mfcc, classifier.predict(X_test_mfcc)))
        arcTrain[index].append(accuracy_score(Y_train_mfcc, classifier.predict(X_train_mfcc)))
    index+=1
    
#graph

plt.plot(firstLayer, longtest,label = "One Hidden Layer Testing")
index = 0
for x in firstLayer:
    dep = "Test Acc for Second Layer Val: " + str(secondLayer[index])
    plt.plot(firstLayer, arcTest[index], label = dep)
    index +=1
plt.ylabel("Accuracy")
plt.xlabel("First Hiden Layer Units")
plt.legend(bbox_to_anchor = (1.05, 1), loc = 2, borderaxespad=0.)
plt.show()
index = 0
for x in firstLayer:
    index2 = 0
    print ("First Layer value: ",x)
    for y in secondLayer:
        print ("Testing Accuracy")
        print (y,arcTest[index][index2])
        print ("Training Accuracy")
        print (y,arcTrain[index][index2])
        index2 += 1
    index +=1
print (longtest)
