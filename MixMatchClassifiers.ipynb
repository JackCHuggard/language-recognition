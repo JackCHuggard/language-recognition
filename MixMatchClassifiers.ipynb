#Decision tree

from sklearn.tree import DecisionTreeClassifier
from sklearn.metrics import accuracy_score
colors = ['r-', 'b-','g-','y-','m-']
max_depth = [3,8,10,14,100]
min_sample_leaf = [1,5,10,15,20,50]
storage = [[],[],[],[],[]]
storage_training = [[],[],[],[],[]]
index_depth = 0
X_train_mfcc = X_train_mfcc.reshape(-1,1)
X_test_mfcc = X_test_mfcc.reshape(-1,1)
for depth in max_depth:
    for leaf in min_sample_leaf:
        classifier = DecisionTreeClassifier(max_depth=depth, min_samples_leaf=leaf, random_state=123)
        classifier.fit(X_train_mfcc, Y_train_mfcc)
        storage [index_depth].append(accuracy_score(Y_test_mfcc, classifier.predict(X_test_mfcc)))
        storage_training[index_depth].append(accuracy_score(Y_train_mfcc, classifier.predict(X_train_mfcc)))
    index_depth +=1
#graph    
import matplotlib.patches as mpatches
import matplotlib.pyplot as plt
colors = ['r-', 'b-','g-','y-','m-']
for x in range (5):
    print ("testing accuracy with depth ",max_depth[x])
    print (storage[x])
    print ("training accuracy with depth ", max_depth[x])
    print (storage_training[x])
    print()
for x in range(5):
    dep = "depth " + str(max_depth[x])
    plt.plot(min_sample_leaf, storage[x], label = dep)
plt.legend(bbox_to_anchor = (1.05, 1), loc = 2, borderaxespad=0.)

plt.ylabel("Accuracy")
plt.xlabel("max_Leaf")
plt.show()
for x in range(5):
    dep = "depth " + str(max_depth[x])
    plt.plot(min_sample_leaf, storage_training[x],label = dep)
plt.legend(bbox_to_anchor = (1.05, 1), loc = 2, borderaxespad=0.) 

plt.ylabel("Accuracy")
plt.xlabel("max_Leaf")
plt.show()

## Logistic Regresion
from sklearn.linear_model import LogisticRegression
from sklearn.model_selection import GridSearchCV, cross_val_predict

base_classifier = LogisticRegression(multi_class='multinomial', solver='lbfgs', random_state=123)
params = [{'C': [0.01, 0.1, 0.5, 1.0, 2.5, 5.0, 10.0, 50.0, 100.0]}]
gs_classifier = GridSearchCV(base_classifier, params, cv=5)
gs_classifier.fit(X_train_mfcc, Y_train_mfcc)

print("Best parameter settings:", gs_classifier.best_params_)
print("Validation accuracy: %0.6f" % gs_classifier.best_score_)


#Neural Network

from sklearn.neural_network import MLPClassifier
from sklearn.metrics import accuracy_score
firstLayer = [50,100,200,300]
secondLayer = [20,50,100,200]
longtest = []
longtrain = []
arcTest = [[],[],[],[]]
arcTrain = [[],[],[],[]]
index = 0
for x in firstLayer:
    classifier = MLPClassifier(hidden_layer_sizes=(x), random_state=123)
    classifier.fit(X_train_mfcc,Y_train_mfcc)
    longtest.append(accuracy_score(Y_test_mfcc, classifier.predict(X_test_mfcc)))
    longtrain.append(accuracy_score(Y_train_mfcc, classifier.predict(X_train_mfcc)))
for x in firstLayer:
    for y in secondLayer:
        classifier = MLPClassifier(hidden_layer_sizes = (x,y), random_state=123)
        classifier.fit(X_train_mfcc,Y_train_mfcc)
        arcTest[index].append(accuracy_score(Y_test_mfcc, classifier.predict(X_test_mfcc)))
        arcTrain[index].append(accuracy_score(Y_train_mfcc, classifier.predict(X_train_mfcc)))
    index+=1
    
#graph
import matplotlib.pyplot as plt
plt.plot(firstLayer, longtrain,label = "One Hidden Layer Training")
index = 0

for x in firstLayer:
    dep = "Training Acc for Second Layer Val: " + str(secondLayer[index])
    plt.plot(firstLayer, arcTrain[index], label = dep)
    index +=1
plt.ylabel("Accuracy")
plt.xlabel("First Hiden Layer Units")
plt.legend(bbox_to_anchor = (1.05, 1), loc = 2, borderaxespad=0.)
plt.show()
index = 0
plt.plot(firstLayer, longtest,label = "One Hidden Layer Testing")
for x in firstLayer:
    dep = "Test Acc for Second Layer Val: " + str(secondLayer[index])
    plt.plot(firstLayer, arcTest[index], label = dep)
    index +=1
    
plt.ylabel("Accuracy")
plt.xlabel("First Hiden Layer Units")
plt.legend(bbox_to_anchor = (1.05, 1), loc = 2, borderaxespad=0.)
plt.show()

largest = [0,0,0]
count = 0

for x in arcTest:
    count2 = 0
    for index in x:
            if largest[0] < index:
                largest[0] = index
                largest[1] = firstLayer [count]
                largest[2] = secondLayer [count2]
            count2 += 1
    count += 1
print("Maximum Testing Accuracy")
print(largest[0])
print("First Hidden Layer")
print(largest[1])
print("Second Hidden Layer")
print(largest[2])
print('\n')
largest = [0,0,0]
count = 0
for x in arcTrain:
    count2 = 0
    for index in x:
            if largest[0] < index:
                largest[0] = index
                largest[1] = firstLayer [count]
                largest[2] = secondLayer [count2]
            count2 += 1
    count += 1
print("Maximum Training Accuracy")
print(largest[0])
print("First Hidden Layer")
print(largest[1])
print("Second Hidden Layer")
print(largest[2])
print('\n')
index = 0
for x in firstLayer:
    index2 = 0
    print ("First Layer value: ",x)
    for y in secondLayer:
        print ("Testing Accuracy")
        print (y,arcTest[index][index2])
        print('\n')
        print ("Training Accuracy")
        print (y,arcTrain[index][index2])
        print('\n')
        index2 += 1
    index +=1
