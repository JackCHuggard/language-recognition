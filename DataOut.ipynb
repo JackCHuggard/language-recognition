from python_speech_features import delta
from python_speech_features import logfbank
import pandas as pd
import numpy as np
import scipy.io.wavfile as wav
file = open("DataSet_MFCC", 'w')
file_log = open("DataSet_Log", 'w')
counter = 0
titles = ["english1.wav","english2.wav","english3.wav","english4.wav","english5.wav","english6.wav","german1.wav","german2.wav","german3.wav","german4.wav","german5.wav","german6.wav"]
for title in titles:
    counter += 1
    (length,signal) = wav.read(title)
    mfcc_array = mfcc(signal,length,nfft = 551)
    fbank = logfbank(signal,length, nfft = 551)
    print (title)
    print (fbank [0])
    print (mfcc_array)
    for x in fbank:
        if counter == 1:
            file_log.write('test, ' + '1 ,' + " %s \n" %str(x)[1:len(str(x))-1])
        elif counter == 7:
            file_log.write('test, ' + '-1 ,' + " %s \n" %str(x)[1:len(str(x))-1])
        elif counter <7:
            file_log.write('train, ' + '1 ,' + " %s \n" %str(x)[1:len(str(x))-1])
        else:
            file_log.write('train, ' + '-1 ,' + " %s \n" %str(x)[1:len(str(x))-1])
            
    for x in mfcc_array:
        if counter == 1:
            file.write('test, ' + '1 ,' + " %s \n" %str(x)[1:len(str(x))-1])
        elif counter == 7:
            file.write('test, ' + '-1 ,' + " %s \n" %str(x)[1:len(str(x))-1])
        elif counter <7:
            file.write('train, ' + '1 ,' + " %s \n" %str(x)[1:len(str(x))-1])
        else:
            file.write('train, ' + '-1 ,' + " %s\n" %str(x)[1:len(str(x))-1])
            
file.close()
file_log.close()
