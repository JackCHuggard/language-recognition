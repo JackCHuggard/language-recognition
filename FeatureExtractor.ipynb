mfcc_Data = pd.read_csv('DataSet_MFCC.csv', 
                 header=None, encoding='ISO-8859-1')
log_Data = pd.read_csv('DataSet_log.csv', 
                 header=None, encoding='ISO-8859-1')
mfcc_train = mfcc_Data.loc[mfcc_Data[0] == 'train']
mfcc_test = mfcc_Data.loc[mfcc_Data[0] == 'test']

log_train = log_Data.loc[log_Data[0] == 'train']
log_test = log_Data.loc[log_Data[0] == 'test']

Y_train_mfcc = mfcc_train.iloc[0:, 1].values
Y_train_log = mfcc_train.iloc[0:, 1].values

Y_test_mfcc = mfcc_test.iloc[0:, 1].values
Y_test_log = mfcc_test.iloc[0:, 1].values

X_test_mfcc = mfcc_test.iloc[1:, 2].values
X_test_log = mfcc_test.iloc[1:, 2].values

X_train_mfcc = mfcc_train.iloc[1:, 2].values
X_train_log = mfcc_train.iloc[1:, 2].values

#stupid csv have to change index for Y values
Y_train_log = Y_train_log[1:]
Y_train_mfcc = Y_train_mfcc[1:]

Y_test_log = Y_test_log[1:]
Y_test_mfcc = Y_test_mfcc[1:]
