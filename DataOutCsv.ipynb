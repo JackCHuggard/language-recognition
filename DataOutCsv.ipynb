from python_speech_features import mfcc
from python_speech_features import delta
from python_speech_features import logfbank
import pandas as pd
import numpy as np
import scipy.io.wavfile as wav
import csv
with open("DataSet_MFCC", 'w') as csvfile:
    counter = 0
    line = csv.writer(csvfile)
    titles = ["english1.wav","english2.wav","english3.wav","english4.wav","english5.wav","english6.wav","german1.wav","german2.wav","german3.wav","german4.wav","german5.wav","german6.wav"]
    for title in titles:
        counter += 1
        (length,signal) = wav.read(title)
        mfcc_array = mfcc(signal,length,nfft = 551)
            
        for x in mfcc_array:
            if counter == 1:
                line.writerow(['test', 1] + [item for item in x])
            elif counter == 7:
                line.writerow(['test', -1] + [item for item in x])
            elif counter <7:
                line.writerow(['train', 1] + [item for item in x])
            else:
                line.writerow(['train', -1] + [item for item in x])

with open("DataSet_Log", 'w') as csvfile:
    counter = 0
    line = csv.writer(csvfile)
    titles = ["english1.wav","english2.wav","english3.wav","english4.wav","english5.wav","english6.wav","german1.wav","german2.wav","german3.wav","german4.wav","german5.wav","german6.wav"]
    for title in titles:
        counter += 1
        (length,signal) = wav.read(title)
        fbank = logfbank(signal,length, nfft = 551)
            
        for x in mfcc_array:
            if counter == 1:
                line.writerow(['test', 1] + [item for item in x])
            elif counter == 7:
                line.writerow(['test', -1] + [item for item in x])
            elif counter <7:
                line.writerow(['train', 1] + [item for item in x])
            else:
                line.writerow(['train', -1] + [item for item in x])
