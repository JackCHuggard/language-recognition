mfcc_Data = pd.read_csv('DataSet_MFCC', 
                 header=None, encoding='ISO-8859-1')
log_Data = pd.read_csv('DataSet_log', 
                 header=None, encoding='ISO-8859-1')
mfcc_train = mfcc_Data.loc[mfcc_Data[0] == 'train']
mfcc_test = mfcc_Data.loc[mfcc_Data[0] == 'test']

log_train = log_Data.loc[log_Data[0] == 'train']
log_test = log_Data.loc[log_Data[0] == 'test']

Y_train_mfcc = mfcc_train.iloc[0:, 1].values
Y_train_log = mfcc_train.iloc[0:, 1].values

X_train_mfcc = mfcc_train.iloc[1:, 2].values
X_train_log = mfcc_train.iloc[1:, 2].values
